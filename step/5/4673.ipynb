{
 "cells": [
  {
   "cell_type": "code",
   "execution_count": null,
   "metadata": {},
   "outputs": [],
   "source": [
    "# https://www.acmicpc.net/problem/4673\n",
    "# 셀프넘"
   ]
  },
  {
   "cell_type": "markdown",
   "metadata": {},
   "source": [
    "접근 방식\n",
    "1. self 넘버 자체를 찾는다\n",
    "2. 주어진 범위 10000 내에서 self 넘버가 아닌 숫자를 지운다\n",
    "\n",
    "-> 아래는 2번으로 푼 것\n",
    "-> 1번 방법으로 가능한지 모르겠음\n",
    "\n",
    "2번 상세\n",
    "1. n이 주어졌을때 d(n)을 리턴하는 함수를 만든다\n",
    "2. d(n)에는 각 자리수의 합을 구하는 함수가 필요한데 이를 sumDigits로 이름 짓고 만든다"
   ]
  },
  {
   "cell_type": "code",
   "execution_count": null,
   "metadata": {},
   "outputs": [],
   "source": [
    "# 1의 자리 숫자와 10으로 나눈 몫의 결과값으로 recursive 하게 만든다\n",
    "def sumDigits(n):\n",
    "    return 0 if n == 0 else int(n % 10) + sumDigits(int(n/10))\n",
    "\n",
    "def getD(n):\n",
    "    result = n + sumDigits(n)\n",
    "    return result"
   ]
  },
  {
   "cell_type": "code",
   "execution_count": null,
   "metadata": {},
   "outputs": [],
   "source": [
    "# 전체 리스트 생성 1~10000\n",
    "list_ = [i for i in range(1,10000)]\n",
    "\n",
    "# idx=0 위치에 있는 1의 d(n)부터 찾고 그 result의 d(result)를 계속 찾는다\n",
    "# 언제까지? 그 result가 전체 범위에 없을때까지\n",
    "# 범위에 없으면 이제 idx를 1 증가시켜 거기서 나오는 d(n)값도 싹 다 지운다\n",
    "current_idx =0\n",
    "# len(list)는 사실 별 의미 없음\n",
    "while current_idx <= len(list_):\n",
    "    # try except 구문\n",
    "    # try 밑에 있는걸 해보고 에러가 뜨면\n",
    "    # except 밑에 있는걸 실행한다\n",
    "    # 여기서는 idx가 list_ 길이를 넘어가면 break(반복문 탈출) \n",
    "    try:\n",
    "        result= getD(list_[current_idx])\n",
    "    except:\n",
    "        break\n",
    "\n",
    "    # d(n) 결과 값이 list_에 있으면 리스트에서 지우고 다시 그 값에서 d(n)을 찾도록 함\n",
    "    while result in list_:\n",
    "        list_.remove(result)\n",
    "        result=getD(result)\n",
    "\n",
    "    # 위의 while 문이 끝나면 idx 1 증가\n",
    "    # 다음 위치의 숫자가 만들어 낼 수 있는 모든 숫자를 지우도록 함\n",
    "    current_idx = current_idx+1\n",
    "\n",
    "# 결과 출력\n",
    "for i in list_:\n",
    "    print(i)\n"
   ]
  }
 ],
 "metadata": {
  "kernelspec": {
   "display_name": "Python 3.7.3 64-bit",
   "language": "python",
   "name": "python3"
  },
  "language_info": {
   "codemirror_mode": {
    "name": "ipython",
    "version": 3
   },
   "file_extension": ".py",
   "mimetype": "text/x-python",
   "name": "python",
   "nbconvert_exporter": "python",
   "pygments_lexer": "ipython3",
   "version": "3.7.3"
  },
  "orig_nbformat": 4,
  "vscode": {
   "interpreter": {
    "hash": "31f2aee4e71d21fbe5cf8b01ff0e069b9275f58929596ceb00d14d90e3e16cd6"
   }
  }
 },
 "nbformat": 4,
 "nbformat_minor": 2
}
