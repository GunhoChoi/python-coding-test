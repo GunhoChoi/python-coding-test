{
 "cells": [
  {
   "cell_type": "code",
   "execution_count": null,
   "metadata": {},
   "outputs": [],
   "source": [
    "'''\n",
    "세준이는 기말고사를 망쳤다. 세준이는 점수를 조작해서 집에 가져가기로 했다. 일단 세준이는 자기 점수 중에 최댓값을 골랐다. 이 값을 M이라고 한다. 그리고 나서 모든 점수를 점수/M*100으로 고쳤다.\n",
    "예를 들어, 세준이의 최고점이 70이고, 수학점수가 50이었으면 수학점수는 50/70*100이 되어 71.43점이 된다.\n",
    "세준이의 성적을 위의 방법대로 새로 계산했을 때, 새로운 평균을 구하는 프로그램을 작성하시오.\n",
    "\n",
    "입력 예시\n",
    "3 \n",
    "45 50 90\n",
    "'''"
   ]
  },
  {
   "cell_type": "code",
   "execution_count": null,
   "metadata": {},
   "outputs": [],
   "source": [
    "# 입력 값에 엔터가 있다는건 입력이 두번에 걸쳐 들어온다는것\n",
    "# 첫 입력은 점수의 개수\n",
    "num = int(input())\n",
    "\n",
    "# input.split()의 default 분리자는 space bar\n",
    "# 다른 문자로 나누려면 input.split(\",\") 처럼 변경해 콤마 기준 분리가 가능\n",
    "# split 된 문자들을 int로 map하고 이 각 숫자들을 list로 묶어주면 깔끔하게 정리 가능\n",
    "list_1 = list(map(int,input().split()))\n",
    "\n",
    "# 파이썬에는 편한 함수들이 많음\n",
    "# 리스트내 최대값은 max(리스트 변수명)\n",
    "max_ = max(list_1)\n",
    "\n",
    "# sum은 리스트 총합\n",
    "# 문제가 일부러 복잡하게 낚으려고 만들어져 있는데 어차피 평균이라면 총합 상태로 계산해도 똑같음\n",
    "# 이건 연산을 직접 손으로 써보면 왜 아래의 식이 나오는지 알 수 있음\n",
    "new_avg = (sum(list_1)/max_)*100/num\n",
    "print(new_avg)"
   ]
  },
  {
   "cell_type": "code",
   "execution_count": null,
   "metadata": {},
   "outputs": [],
   "source": []
  }
 ],
 "metadata": {
  "kernelspec": {
   "display_name": "Python 3.7.3 64-bit",
   "language": "python",
   "name": "python3"
  },
  "language_info": {
   "codemirror_mode": {
    "name": "ipython",
    "version": 3
   },
   "file_extension": ".py",
   "mimetype": "text/x-python",
   "name": "python",
   "nbconvert_exporter": "python",
   "pygments_lexer": "ipython3",
   "version": "3.7.3"
  },
  "orig_nbformat": 4,
  "vscode": {
   "interpreter": {
    "hash": "31f2aee4e71d21fbe5cf8b01ff0e069b9275f58929596ceb00d14d90e3e16cd6"
   }
  }
 },
 "nbformat": 4,
 "nbformat_minor": 2
}
