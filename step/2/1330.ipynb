{
 "cells": [
  {
   "cell_type": "markdown",
   "metadata": {},
   "source": [
    "### 두 수 비교하기\n",
    "### https://www.acmicpc.net/problem/1330"
   ]
  },
  {
   "cell_type": "code",
   "execution_count": null,
   "metadata": {},
   "outputs": [],
   "source": [
    "# 일단 답은 아래와 같음\n",
    "a,b = map(int,input().split())\n",
    "\n",
    "if a>b:\n",
    "    print(\">\")\n",
    "elif a<b:\n",
    "    print(\"<\")\n",
    "else:\n",
    "    print(\"==\")"
   ]
  },
  {
   "cell_type": "code",
   "execution_count": null,
   "metadata": {},
   "outputs": [],
   "source": [
    "# int로 mapping이 없을 경우\n",
    "# 입력 type은 str 인것을 확인할 수 있다.\n",
    "# 파이썬은 string 비교 연산시 한글자 한글자 비교함\n",
    "# 100 99 입력해보면 < 가 나옴\n",
    "# 10000 9999를 입력해보면 < 가 나옴\n",
    "# 그래서 a와 b를 문제에서처럼 정수로 바꿔주는 함수가 필요한데 이게 map\n",
    "\n",
    "a,b = input().split()\n",
    "print(type(a),type(b))\n",
    "\n",
    "if a>b:\n",
    "    print(\">\")\n",
    "elif a<b:\n",
    "    print(\"<\")\n",
    "else:\n",
    "    print(\"==\")"
   ]
  },
  {
   "cell_type": "code",
   "execution_count": 16,
   "metadata": {},
   "outputs": [],
   "source": [
    "# map 함수 알아보기\n",
    "# https://www.geeksforgeeks.org/python-map-function/\n",
    "# map(func,iter)\n",
    "# iter에서 전달해주는 각 데이터를 func에 넣은 값을 리턴해주는 함수\n",
    "# 위의 문제에서는 input().split() 에서 리턴하는 스페이스 바로 분리된 문자열을 각각 int(입력) 한 결과 값을 리턴해줌\n",
    "# map 함수 자체가 워낙 범용이라 처음보면 어려울 수 있음"
   ]
  }
 ],
 "metadata": {
  "kernelspec": {
   "display_name": "Python 3.7.3 64-bit",
   "language": "python",
   "name": "python3"
  },
  "language_info": {
   "codemirror_mode": {
    "name": "ipython",
    "version": 3
   },
   "file_extension": ".py",
   "mimetype": "text/x-python",
   "name": "python",
   "nbconvert_exporter": "python",
   "pygments_lexer": "ipython3",
   "version": "3.7.3"
  },
  "orig_nbformat": 4,
  "vscode": {
   "interpreter": {
    "hash": "31f2aee4e71d21fbe5cf8b01ff0e069b9275f58929596ceb00d14d90e3e16cd6"
   }
  }
 },
 "nbformat": 4,
 "nbformat_minor": 2
}
