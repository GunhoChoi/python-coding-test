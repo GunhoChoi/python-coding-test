{
 "cells": [
  {
   "cell_type": "code",
   "execution_count": null,
   "metadata": {},
   "outputs": [],
   "source": [
    "# 파이썬 내부에 구현된 정렬(tim sort라는걸 쓴다고 함)을 쓰면 순식간에 풀지만 \n",
    "# 다양한 sorting algorithm을 직접 구현해보는게 도움이 되고\n",
    "# 면접에서는 sorting algorithm 내부 구현을 물어보기 떄문에 따로 공부해야함\n",
    "# 백준 문제 푸는것보다 sorting algorithm 공부 필요\n",
    "# 아래처럼 풀면 2751번은 시간초과 뜸\n",
    "# python3 는 초과 pypy3는 통과\n",
    "num = int(input())\n",
    "list_=[]\n",
    "for i in range(num):\n",
    "    list_.append(int(input()))\n",
    "\n",
    "for i in sorted(list_):\n",
    "    print(i)"
   ]
  },
  {
   "cell_type": "code",
   "execution_count": null,
   "metadata": {},
   "outputs": [],
   "source": []
  }
 ],
 "metadata": {
  "kernelspec": {
   "display_name": "Python 3.7.3 64-bit",
   "language": "python",
   "name": "python3"
  },
  "language_info": {
   "codemirror_mode": {
    "name": "ipython",
    "version": 3
   },
   "file_extension": ".py",
   "mimetype": "text/x-python",
   "name": "python",
   "nbconvert_exporter": "python",
   "pygments_lexer": "ipython3",
   "version": "3.7.3"
  },
  "orig_nbformat": 4,
  "vscode": {
   "interpreter": {
    "hash": "31f2aee4e71d21fbe5cf8b01ff0e069b9275f58929596ceb00d14d90e3e16cd6"
   }
  }
 },
 "nbformat": 4,
 "nbformat_minor": 2
}
