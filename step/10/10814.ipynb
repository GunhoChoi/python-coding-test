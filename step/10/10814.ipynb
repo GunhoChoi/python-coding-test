{
 "cells": [
  {
   "cell_type": "code",
   "execution_count": 2,
   "metadata": {},
   "outputs": [
    {
     "name": "stdout",
     "output_type": "stream",
     "text": [
      "20 Sunyoung\n",
      "21 Junkyu\n",
      "21 Dohyun\n"
     ]
    }
   ],
   "source": [
    "n = int(input())\n",
    "list_=[]\n",
    "\n",
    "for i in range(n):\n",
    "    a,b=input().split()\n",
    "    list_.append([int(a),b])\n",
    "\n",
    "# 나이만으로 소팅하고 굳이 나이가 같다면 이름 소팅은 안하는거라\n",
    "# x[0]으로 설정 \n",
    "# x 예시: [20,\"Dohyun\"]\n",
    "for i in sorted(list_,key=lambda x: x[0]):\n",
    "    print(i[0],i[1])"
   ]
  }
 ],
 "metadata": {
  "kernelspec": {
   "display_name": "Python 3.7.3 64-bit",
   "language": "python",
   "name": "python3"
  },
  "language_info": {
   "codemirror_mode": {
    "name": "ipython",
    "version": 3
   },
   "file_extension": ".py",
   "mimetype": "text/x-python",
   "name": "python",
   "nbconvert_exporter": "python",
   "pygments_lexer": "ipython3",
   "version": "3.7.3"
  },
  "orig_nbformat": 4,
  "vscode": {
   "interpreter": {
    "hash": "31f2aee4e71d21fbe5cf8b01ff0e069b9275f58929596ceb00d14d90e3e16cd6"
   }
  }
 },
 "nbformat": 4,
 "nbformat_minor": 2
}
