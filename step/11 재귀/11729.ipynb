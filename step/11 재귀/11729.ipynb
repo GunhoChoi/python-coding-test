{
 "cells": [
  {
   "cell_type": "markdown",
   "metadata": {},
   "source": [
    "# 하노이의 탑\n",
    "\n",
    "N개의 원판을 기둥 1에서 3으로 옮기는건 아래와 같이 단계를 나눌 수 있다\n",
    "ex. hanoi(n,1,3)\n",
    "\n",
    "1. N-1개를 기둥 2로 옮긴다 (1->2)\n",
    "2. N번째 원판을 기둥 3로 옮긴다 (1->3)\n",
    "3. N-1개를 기둥 3으로 옮긴다 (2->3)\n",
    "이때 2=(1+2+3)-(1+3) 남는 기둥 찾는다고 생각하면 됨\n",
    "\n",
    "위의 1번은 아래와 같은 단계로 나눌 수 있다.\n",
    "ex. hanoi(n-1,1,2) \n",
    "1. N-2개를 기둥 3로 옮긴다(1->3) \n",
    "2. N-1번째를 기둥 2로 옮긴다(1->2)\n",
    "3. N-2개를 기둥 2로 옮긴다(3->2)\n",
    "이때 3=(1+2+3)-(1+2) 남는 기둥 찾는다고 생각하면 됨\n",
    "\n",
    "위의 3번은 아래와 같이 나눌 수 있다.\n",
    "ex. hanoi(n-1,2,3)\n",
    "1. N-2개를 기둥 1로 옮긴다(2->1) \n",
    "2. N-1번째를 기둥 3로 옮긴다(2->3)\n",
    "3. N-2개를 기둥 3로 옮긴다(1->3)\n",
    "이때 1=(1+2+3)-(2+3)\n",
    "\n",
    "- 남는 기둥을 찾기 위해 6-start-end 가 나온것\n",
    "\n",
    "재귀는 풀때는 알겠는데 매번 머리로만 풀려면 헷갈리는것으로 보아\n",
    "뇌가 돌아가는 자연스러운 시스템은 아닌듯"
   ]
  },
  {
   "cell_type": "code",
   "execution_count": null,
   "metadata": {},
   "outputs": [],
   "source": [
    "def hanoi_tower(n, start, end) :\n",
    "    if n == 1 :\n",
    "        print(start, end)\n",
    "        return\n",
    "       \n",
    "    hanoi_tower(n-1, start, 6-start-end) # 1단계\n",
    "    print(start, end) # 2단계\n",
    "    hanoi_tower(n-1, 6-start-end, end) # 3단계\n",
    "    \n",
    "n = int(input())\n",
    "print(2**n-1)\n",
    "hanoi_tower(n, 1, 3)"
   ]
  }
 ],
 "metadata": {
  "kernelspec": {
   "display_name": "Python 3.7.3 64-bit",
   "language": "python",
   "name": "python3"
  },
  "language_info": {
   "name": "python",
   "version": "3.7.3"
  },
  "orig_nbformat": 4,
  "vscode": {
   "interpreter": {
    "hash": "31f2aee4e71d21fbe5cf8b01ff0e069b9275f58929596ceb00d14d90e3e16cd6"
   }
  }
 },
 "nbformat": 4,
 "nbformat_minor": 2
}
