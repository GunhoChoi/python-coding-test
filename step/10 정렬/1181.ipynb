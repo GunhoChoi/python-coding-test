{
 "cells": [
  {
   "cell_type": "code",
   "execution_count": null,
   "metadata": {},
   "outputs": [],
   "source": [
    "n = int(input())\n",
    "list_str =[]\n",
    "\n",
    "for i in range(n):\n",
    "    list_str.append(input())\n",
    "\n",
    "# 같은 단어가 여러번 입력되면 한번만 출력하는거라 set로 중복 제거 후 다시 list로 변환\n",
    "list_str=list(set(list_str))\n",
    "\n",
    "# 변환 순서 설명은 아래 칸에\n",
    "# 사전순 변환\n",
    "list_str.sort()\n",
    "# 길이 순 전환\n",
    "# sort 할 때 무엇을 기준으로 할지 key에 함수를 전달하게 되는데\n",
    "# key=len (str 길이 함수)로 간략하게 전달도 가능하고\n",
    "# 길어지지만 lambda(잠깐 쓰고 버리는 간단한 함수)로 입력 값과 결과 값이 명시적으로 보이게 짤 수도 있다 \n",
    "list_str.sort(key=lambda x: len(x))\n",
    "\n",
    "for i in list_str:\n",
    "    print(i)"
   ]
  },
  {
   "cell_type": "code",
   "execution_count": 14,
   "metadata": {},
   "outputs": [
    {
     "name": "stdout",
     "output_type": "stream",
     "text": [
      "['ab', 'ad', 'abc']\n",
      "['ab', 'abc', 'ad']\n"
     ]
    }
   ],
   "source": [
    "# 파이썬 str 비교는 한글자 한글자 비교이기 때문에 ad > abc\n",
    "# 원하는 결과가 나오려면 순서를 그냥 소팅 먼저, 길이 소팅 나중으로 해아함\n",
    "list1= [\"ab\",\"abc\",\"ad\"]\n",
    "print(sorted(sorted(list1),key=len))\n",
    "print(sorted(sorted(list1, key=len)))"
   ]
  }
 ],
 "metadata": {
  "kernelspec": {
   "display_name": "Python 3.7.3 64-bit",
   "language": "python",
   "name": "python3"
  },
  "language_info": {
   "codemirror_mode": {
    "name": "ipython",
    "version": 3
   },
   "file_extension": ".py",
   "mimetype": "text/x-python",
   "name": "python",
   "nbconvert_exporter": "python",
   "pygments_lexer": "ipython3",
   "version": "3.7.3"
  },
  "orig_nbformat": 4,
  "vscode": {
   "interpreter": {
    "hash": "31f2aee4e71d21fbe5cf8b01ff0e069b9275f58929596ceb00d14d90e3e16cd6"
   }
  }
 },
 "nbformat": 4,
 "nbformat_minor": 2
}
