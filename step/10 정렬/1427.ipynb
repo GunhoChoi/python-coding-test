{
 "cells": [
  {
   "cell_type": "code",
   "execution_count": 5,
   "metadata": {},
   "outputs": [
    {
     "name": "stdout",
     "output_type": "stream",
     "text": [
      "4332\n"
     ]
    }
   ],
   "source": [
    "x = input()\n",
    "\n",
    "# 입력 받은 문자열을 하나씩 int로 바꿔 리스트로 만들고\n",
    "# 내림차순 정렬한다 \n",
    "# [i for i in x] 같은 표현 방식을 list comprehension 이라고 함\n",
    "# 복잡한 변환을 한줄의 코드로 쓸 수 있다\n",
    "list_x = sorted([int(i) for i in x],reverse=True)\n",
    "\n",
    "#정렬된 list of int 를 list of string으로 변경하고 str.join을 사용하여 다 붙인다\n",
    "str_res=''.join([str(i) for i in list_x])\n",
    "\n",
    "# 아직 문자열이기 때문에 int로 바꿔 출력\n",
    "print(int(str_res))"
   ]
  }
 ],
 "metadata": {
  "kernelspec": {
   "display_name": "Python 3.7.3 64-bit",
   "language": "python",
   "name": "python3"
  },
  "language_info": {
   "codemirror_mode": {
    "name": "ipython",
    "version": 3
   },
   "file_extension": ".py",
   "mimetype": "text/x-python",
   "name": "python",
   "nbconvert_exporter": "python",
   "pygments_lexer": "ipython3",
   "version": "3.7.3"
  },
  "orig_nbformat": 4,
  "vscode": {
   "interpreter": {
    "hash": "31f2aee4e71d21fbe5cf8b01ff0e069b9275f58929596ceb00d14d90e3e16cd6"
   }
  }
 },
 "nbformat": 4,
 "nbformat_minor": 2
}
