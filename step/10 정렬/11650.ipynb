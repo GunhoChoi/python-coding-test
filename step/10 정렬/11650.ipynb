{
 "cells": [
  {
   "cell_type": "code",
   "execution_count": null,
   "metadata": {},
   "outputs": [],
   "source": [
    "n = int(input())\n",
    "list_ =[]\n",
    "\n",
    "# 입력 값을 int로 변환하고 전체를 list 변환해 최종 리스트에 추가함\n",
    "for i in range(n):\n",
    "    list_.append(list(map(int,input().split())))\n",
    "\n",
    "# 그리고 이 채로 sort\n",
    "# 파이썬 sort 기능은 리스트에도 적용되는데 문제에서 요구한 대로 앞 index 부터 비교하고 뒤에 비교해서 간단하게 해결 가능\n",
    "for i in sorted(list_):\n",
    "    print(i[0],i[1])"
   ]
  }
 ],
 "metadata": {
  "kernelspec": {
   "display_name": "Python 3.7.3 64-bit",
   "language": "python",
   "name": "python3"
  },
  "language_info": {
   "codemirror_mode": {
    "name": "ipython",
    "version": 3
   },
   "file_extension": ".py",
   "mimetype": "text/x-python",
   "name": "python",
   "nbconvert_exporter": "python",
   "pygments_lexer": "ipython3",
   "version": "3.7.3"
  },
  "orig_nbformat": 4,
  "vscode": {
   "interpreter": {
    "hash": "31f2aee4e71d21fbe5cf8b01ff0e069b9275f58929596ceb00d14d90e3e16cd6"
   }
  }
 },
 "nbformat": 4,
 "nbformat_minor": 2
}
