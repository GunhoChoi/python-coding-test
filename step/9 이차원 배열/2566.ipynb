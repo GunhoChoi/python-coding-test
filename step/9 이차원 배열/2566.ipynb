{
 "cells": [
  {
   "cell_type": "code",
   "execution_count": null,
   "metadata": {},
   "outputs": [],
   "source": [
    "# 이 문제는 입력이 들어오는 형식이 뭔지 아는게 중요한데\n",
    "# 9 row의 데이터가 한번에 1 2 3 4 5 6 7 8 9\\n10 11 12... 이렇게 들어오는게 아니고\n",
    "# 입력 자체가 9번 들어옴 1 2 3 4 5 6 7 8 9 이런게 9번\n",
    "# 그래서 for 문을 9번 돌려야 함\n",
    "# 2차원 이라는건 무시하고 그냥 1차원 array 에 받아서 위치 계산하면 됨\n",
    "array = []\n",
    "for i in range(9):\n",
    "    array+=list(map(int,input().split()))\n",
    "\n",
    "# 최대값 찾고, 최대값 index 찾기\n",
    "# 이때 index는 array가 1차원 일때 index이므로\n",
    "# 아래 print문에서 처럼 9로 나눠서 몫+1은 행, 나머지+1은 열이다\n",
    "# +1 하는 이유는 좌표가 0,0에서 시작하는게 아닌 [1,1]~[9,9] 방식이기 때문\n",
    "max_ = max(array)\n",
    "max_index = array.index(max_)\n",
    "\n",
    "print(max_)\n",
    "print(max_index//9+1, max_index%9+1)"
   ]
  }
 ],
 "metadata": {
  "kernelspec": {
   "display_name": "Python 3.7.3 64-bit",
   "language": "python",
   "name": "python3"
  },
  "language_info": {
   "codemirror_mode": {
    "name": "ipython",
    "version": 3
   },
   "file_extension": ".py",
   "mimetype": "text/x-python",
   "name": "python",
   "nbconvert_exporter": "python",
   "pygments_lexer": "ipython3",
   "version": "3.7.3"
  },
  "orig_nbformat": 4,
  "vscode": {
   "interpreter": {
    "hash": "31f2aee4e71d21fbe5cf8b01ff0e069b9275f58929596ceb00d14d90e3e16cd6"
   }
  }
 },
 "nbformat": 4,
 "nbformat_minor": 2
}
