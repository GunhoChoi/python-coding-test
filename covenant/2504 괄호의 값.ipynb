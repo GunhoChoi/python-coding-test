{
 "cells": [
  {
   "cell_type": "code",
   "execution_count": 82,
   "metadata": {},
   "outputs": [
    {
     "name": "stdout",
     "output_type": "stream",
     "text": [
      "0\n"
     ]
    }
   ],
   "source": [
    "# 파이썬 맞춘 사람 6등!ㅋㅋ\n",
    "# 더 줄여보려고 시도했지만 등수는 안 올라감\n",
    "def checkCorrect(x,a=0,b=0):\n",
    "    for i in x:\n",
    "        if i ==\"(\":  a+=1\n",
    "        elif i==\")\": a-=1\n",
    "        elif i==\"[\": b+=1\n",
    "        elif i==\"]\": b-=1\n",
    "        if a<0 or b<0:\n",
    "            return 0\n",
    "    if a==0 and b==0:\n",
    "        return 1\n",
    "    else:\n",
    "        return 0\n",
    "\n",
    "def paran2num(x,a=[],b=[]):\n",
    "    if x==\"()\":\n",
    "        return 2\n",
    "    elif x==\"[]\":\n",
    "        return 3\n",
    "    # ([)] 같이 괄호 쌍 안에 하나만 있는 경우 \n",
    "    # 이거 없으면 70% 근처에서 틀림\n",
    "    elif len(x)<=1:\n",
    "        return 0\n",
    "\n",
    "    for idx,i in enumerate(x):\n",
    "        if i==\"(\":\n",
    "            a.append(idx)\n",
    "        elif i==\")\":\n",
    "            start=a.pop()\n",
    "            if a==[] and b==[]:\n",
    "                    if idx-start==1:\n",
    "                        return 2+paran2num(x[idx+1:len(x)])\n",
    "                    else:\n",
    "                        return 2*paran2num(x[start+1:idx])+paran2num(x[idx+1:len(x)])\n",
    "        elif i==\"[\":\n",
    "            b.append(idx)\n",
    "        elif i==\"]\":\n",
    "            start=b.pop() \n",
    "            if a==[] and b==[]:\n",
    "                    if idx-start==1:\n",
    "                        return 3+paran2num(x[idx+1:len(x)])\n",
    "                    else:\n",
    "                        return 3*paran2num(x[start+1:idx])+paran2num(x[idx+1:len(x)])\n",
    "\n",
    "x=input()\n",
    "if checkCorrect(x):\n",
    "    print(paran2num(x))\n",
    "else:\n",
    "    print(0)"
   ]
  }
 ],
 "metadata": {
  "kernelspec": {
   "display_name": "Python 3.7.3 64-bit",
   "language": "python",
   "name": "python3"
  },
  "language_info": {
   "codemirror_mode": {
    "name": "ipython",
    "version": 3
   },
   "file_extension": ".py",
   "mimetype": "text/x-python",
   "name": "python",
   "nbconvert_exporter": "python",
   "pygments_lexer": "ipython3",
   "version": "3.7.3"
  },
  "orig_nbformat": 4,
  "vscode": {
   "interpreter": {
    "hash": "31f2aee4e71d21fbe5cf8b01ff0e069b9275f58929596ceb00d14d90e3e16cd6"
   }
  }
 },
 "nbformat": 4,
 "nbformat_minor": 2
}
