{
 "cells": [
  {
   "cell_type": "code",
   "execution_count": 80,
   "metadata": {},
   "outputs": [
    {
     "name": "stdout",
     "output_type": "stream",
     "text": [
      "3\n"
     ]
    }
   ],
   "source": [
    "# 윽 시간초과\n",
    "# 어떻게 푸는거지\n",
    "import itertools\n",
    "import string\n",
    "\n",
    "n,k = map(int,input().split())\n",
    "alphabet = list(string.ascii_lowercase)\n",
    "\n",
    "def getWordMax(n,k):\n",
    "    if k<5:\n",
    "        return 0\n",
    "    elif k>=26:\n",
    "        return n\n",
    "    else:\n",
    "        list_of_chars = ['a','n','t','i','c']\n",
    "        translation_table = str.maketrans('', '', ''.join(list_of_chars))\n",
    "        wordList=[]\n",
    "        for i in range(n):\n",
    "            wordList.append(\"\".join((input()[4:-4].translate(translation_table))))\n",
    "        \n",
    "        left = [x for x in alphabet if (x not in list_of_chars)]\n",
    "        wordComb=list(map(''.join,itertools.combinations(left,k-5)))\n",
    "        numMax=0\n",
    "        for i in wordComb:\n",
    "            count=0\n",
    "            for j in wordList:\n",
    "                \n",
    "                if set(j).issubset(set(i)):\n",
    "                    count+=1\n",
    "            if count >numMax:\n",
    "                numMax=count\n",
    "\n",
    "        return numMax\n",
    "\n",
    "print(getWordMax(n,k))"
   ]
  },
  {
   "cell_type": "code",
   "execution_count": null,
   "metadata": {},
   "outputs": [],
   "source": []
  }
 ],
 "metadata": {
  "kernelspec": {
   "display_name": "Python 3.7.3 64-bit",
   "language": "python",
   "name": "python3"
  },
  "language_info": {
   "codemirror_mode": {
    "name": "ipython",
    "version": 3
   },
   "file_extension": ".py",
   "mimetype": "text/x-python",
   "name": "python",
   "nbconvert_exporter": "python",
   "pygments_lexer": "ipython3",
   "version": "3.7.3"
  },
  "orig_nbformat": 4,
  "vscode": {
   "interpreter": {
    "hash": "31f2aee4e71d21fbe5cf8b01ff0e069b9275f58929596ceb00d14d90e3e16cd6"
   }
  }
 },
 "nbformat": 4,
 "nbformat_minor": 2
}
