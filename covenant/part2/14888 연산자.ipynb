{
 "cells": [
  {
   "cell_type": "code",
   "execution_count": null,
   "metadata": {},
   "outputs": [],
   "source": [
    "from itertools import permutations\n",
    "import operator\n",
    "\n",
    "# + - x /\n",
    "operators = [operator.add,operator.sub,operator.mul,operator.floordiv]\n",
    "\n",
    "# 다른 사람들은 재귀적으로 풀었는데\n",
    "# 난 for 문으로 짜서 통과는 했지만 좀 느려진듯\n",
    "# 메모리는 비슷하게 씀\n",
    "def calculate_1set(a,b):\n",
    "    for idx,i in enumerate(b):   \n",
    "        if idx==0:\n",
    "            result = a[idx]\n",
    "        if result<0 and i==operator.floordiv:\n",
    "            result = -(abs(result)//a[idx+1])\n",
    "        else: \n",
    "            result = i(result,a[idx+1])\n",
    "    return result\n",
    "\n",
    "# 모든 경우의 수를 다 만들어 놓고 풀었는데\n",
    "# 재귀적으로 풀면 그 전 단계에서 계산된 값은 여러번 계산 안되기 떄문에 빠른듯 하다\n",
    "def getOperationPermutation(a):\n",
    "    list_operators = []\n",
    "    for idx,i in enumerate(a):\n",
    "        if i>0:\n",
    "            for j in range(i):\n",
    "                list_operators.append(operators[idx])\n",
    "\n",
    "    operation_perm = list(set(permutations(list_operators,len(list_operators))))\n",
    "    return operation_perm\n",
    "\n",
    "n = int(input())\n",
    "\n",
    "list_numbers = list(map(int,input().split()))\n",
    "list_num_operators = list(map(int,input().split()))\n",
    "\n",
    "operation_perm = getOperationPermutation(list_num_operators)\n",
    "\n",
    "list_ = []\n",
    "for i in operation_perm:\n",
    "    list_.append(calculate_1set(list_numbers,i))\n",
    "\n",
    "print(max(list_))\n",
    "print(min(list_))"
   ]
  },
  {
   "cell_type": "code",
   "execution_count": null,
   "metadata": {},
   "outputs": [],
   "source": [
    "# 속도 빠른 재귀적 방법\n",
    "# 최대한 for문을 안쓰고 짜보자\n",
    "n = int(input())\n",
    "nums = list(map(int, input().split()))\n",
    "add, sub, mul, div = map(int, input().split())\n",
    "\n",
    "rst= []\n",
    "\n",
    "def myftn(tmp,idx,add,sub, mul,div):\n",
    "  if idx == len(nums) :\n",
    "    rst.append(tmp)\n",
    "    return\n",
    "  if add != 0 :\n",
    "    myftn(tmp+nums[idx],idx+1, add-1,sub,mul,div)\n",
    "    \n",
    "  if sub != 0 :\n",
    "    myftn(tmp-nums[idx],idx+1, add, sub-1,mul,div)\n",
    "\n",
    "  if mul != 0 :\n",
    "    myftn(tmp*nums[idx],idx+1, add, sub,mul-1,div)\n",
    "\n",
    "  if div != 0 :\n",
    "    if tmp >= 0 :\n",
    "      myftn(tmp//nums[idx],idx+1, add, sub,mul,div-1)\n",
    "    else :\n",
    "      myftn((-1)*((-1*tmp)//nums[idx]),idx+1, add, sub,mul,div-1)\n",
    "\n",
    "myftn(nums[0],1,add,sub,mul,div)\n",
    "\n",
    "print(max(rst))\n",
    "print(min(rst))"
   ]
  },
  {
   "cell_type": "code",
   "execution_count": null,
   "metadata": {},
   "outputs": [],
   "source": []
  }
 ],
 "metadata": {
  "kernelspec": {
   "display_name": "Python 3.7.3 64-bit",
   "language": "python",
   "name": "python3"
  },
  "language_info": {
   "codemirror_mode": {
    "name": "ipython",
    "version": 3
   },
   "file_extension": ".py",
   "mimetype": "text/x-python",
   "name": "python",
   "nbconvert_exporter": "python",
   "pygments_lexer": "ipython3",
   "version": "3.7.3"
  },
  "orig_nbformat": 4,
  "vscode": {
   "interpreter": {
    "hash": "31f2aee4e71d21fbe5cf8b01ff0e069b9275f58929596ceb00d14d90e3e16cd6"
   }
  }
 },
 "nbformat": 4,
 "nbformat_minor": 2
}
