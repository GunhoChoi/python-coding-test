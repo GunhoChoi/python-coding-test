{
 "cells": [
  {
   "cell_type": "code",
   "execution_count": null,
   "metadata": {},
   "outputs": [],
   "source": [
    "import math \n",
    "s =int(input())\n",
    "\n",
    "def add2n(n):\n",
    "    return n*(n+1)/2\n",
    "\n",
    "def findN(s):\n",
    "    start = math.floor(math.sqrt(2*s))\n",
    "    for i in range(start-1,start+1):\n",
    "        if add2n(i)<=s<add2n(i+1):\n",
    "            return i\n",
    "\n",
    "print(findN(s))"
   ]
  }
 ],
 "metadata": {
  "kernelspec": {
   "display_name": "Python 3.7.3 64-bit",
   "language": "python",
   "name": "python3"
  },
  "language_info": {
   "codemirror_mode": {
    "name": "ipython",
    "version": 3
   },
   "file_extension": ".py",
   "mimetype": "text/x-python",
   "name": "python",
   "nbconvert_exporter": "python",
   "pygments_lexer": "ipython3",
   "version": "3.7.3"
  },
  "orig_nbformat": 4,
  "vscode": {
   "interpreter": {
    "hash": "31f2aee4e71d21fbe5cf8b01ff0e069b9275f58929596ceb00d14d90e3e16cd6"
   }
  }
 },
 "nbformat": 4,
 "nbformat_minor": 2
}
