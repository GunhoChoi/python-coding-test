{
 "cells": [
  {
   "cell_type": "code",
   "execution_count": 18,
   "metadata": {},
   "outputs": [],
   "source": [
    "n,k= map(int,input().split())\n",
    "arr=[int(input()) for _ in range(n)]"
   ]
  },
  {
   "cell_type": "markdown",
   "metadata": {},
   "source": [
    "시도1"
   ]
  },
  {
   "cell_type": "code",
   "execution_count": 3,
   "metadata": {},
   "outputs": [
    {
     "name": "stdout",
     "output_type": "stream",
     "text": [
      "3\n"
     ]
    }
   ],
   "source": [
    "# 1번 시도\n",
    "# 시간초과에 걸려버림\n",
    "#n,k= map(int,input().split())\n",
    "#arr=[int(input()) for _ in range(n)]\n",
    "arr = [1,2]\n",
    "arr=sorted(arr,reverse=True)\n",
    "n=3\n",
    "k=5\n",
    "\n",
    "result=0\n",
    "def fn(k,arr):\n",
    "    global result\n",
    "    for idx,i in enumerate(arr):\n",
    "        if k-i==0:\n",
    "            result+=1\n",
    "        elif k-i>0:\n",
    "            fn(k-i,arr[idx:])\n",
    "        else:\n",
    "            continue\n",
    "\n",
    "fn(k,arr)\n",
    "print(result)\n",
    "# 한번 계산 했던걸 또 해서 그런듯 하다\n",
    "# 메모리 공간이 넓으니 fn(k)의 결과를 저장해두고 \n",
    "# 체크해서 다시 계산 안하게 하면 좀 나아지려나?\n"
   ]
  },
  {
   "cell_type": "markdown",
   "metadata": {},
   "source": [
    "시도2"
   ]
  },
  {
   "cell_type": "code",
   "execution_count": 60,
   "metadata": {},
   "outputs": [],
   "source": [
    "n=35\n",
    "k=1000\n",
    "arr=[i+1 for i in range(35)]\n",
    "\n",
    "# n가지 동전으로 k 만드는 법\n",
    "# 전체 경우의 수 = 첫번째 동전 없이 k 만드는 경우 + 첫번째 동전을 1개 이상 포함해 k를 만드는 경우(=\"k-첫번째 동전 값\"을 전체 동전을 사용해 만드는것)\n",
    "# f(k,arr)=f(k,arr[1:])+f(k-arr[0],arr)\n",
    "# 학교 다닐때는 이런거 많이 풀어서 감이 있었는데 다 까먹었네\n",
    "\n",
    "#n,k= map(int,input().split())\n",
    "#arr=[int(input()) for _ in range(n)]\n",
    "arr=sorted(arr,reverse=True)\n",
    "\n",
    "def f(k,arr):\n",
    "    if k==0 or arr==[1]:\n",
    "        return 1\n",
    "    elif k<0:\n",
    "        return 0\n",
    "    else:\n",
    "        return f(k,arr[1:])+f(k-arr[0],arr)\n",
    "\n",
    "print(f(k,arr))\n",
    "\n",
    "# 이 방법 역시도 1원, 2원짜리 작은 동전으로 인해 recursion이 너무 많이 일어나 시간초과\n",
    "# Top-down 말고 Down-Up 방법을 쓰는게 맞는듯하다\n",
    "# 거기에 메모도 추가"
   ]
  },
  {
   "cell_type": "markdown",
   "metadata": {},
   "source": [
    "시도3"
   ]
  },
  {
   "cell_type": "code",
   "execution_count": 16,
   "metadata": {},
   "outputs": [
    {
     "name": "stdout",
     "output_type": "stream",
     "text": [
      "4\n"
     ]
    }
   ],
   "source": [
    "# 코인이 1 밖에 없다면 k에 상관 없이 모든 값은 1(memo[k]=1)\n",
    "# 여기에 코인 2가 추가 되면 \n",
    "# memo[2]는 기존에 1코인 밖에 없을때 memo[2] 값에 2만 사용하는 경우를 더해줘야 함 1+1=2\n",
    "# memo[3]은 기존에 1코인 밖에 없을때 memo[3] 값에 2를 추가해 3이 되는 경우인 memo[1]를 더해줘야 함\n",
    "# 이때 1 = 3(구하고자 하는 값)-2(현재 체크 중인 코인)\n",
    "\n",
    "n,k= map(int,input().split())\n",
    "arr=[int(input()) for _ in range(n)]\n",
    "arr=sorted(arr)\n",
    "\n",
    "memo=[0 for _ in range(k+1)]\n",
    "# memo[j-i]를 계산할때 i==j 일 경우가 있어 1로 초기화 \n",
    "memo[0]=1\n",
    "\n",
    "for i in arr:\n",
    "    for j in range(i,k+1):\n",
    "        if j-i>=0:\n",
    "            memo[j]=memo[j]+memo[j-i]\n",
    "\n",
    "print(memo[k])\n",
    "\n",
    "# 요구하는 수행시간이 짧고 메모리는 그나마 좀 남아서 이 방법으로 풀 수 있었음\n",
    "# 사실 여기저기 답보고 이해해서 푼거라 개운하진 않네\n"
   ]
  }
 ],
 "metadata": {
  "kernelspec": {
   "display_name": "Python 3.7.3 64-bit",
   "language": "python",
   "name": "python3"
  },
  "language_info": {
   "codemirror_mode": {
    "name": "ipython",
    "version": 3
   },
   "file_extension": ".py",
   "mimetype": "text/x-python",
   "name": "python",
   "nbconvert_exporter": "python",
   "pygments_lexer": "ipython3",
   "version": "3.7.3"
  },
  "orig_nbformat": 4,
  "vscode": {
   "interpreter": {
    "hash": "31f2aee4e71d21fbe5cf8b01ff0e069b9275f58929596ceb00d14d90e3e16cd6"
   }
  }
 },
 "nbformat": 4,
 "nbformat_minor": 2
}
