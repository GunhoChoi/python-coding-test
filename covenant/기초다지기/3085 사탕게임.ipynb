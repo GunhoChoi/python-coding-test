{
 "cells": [
  {
   "cell_type": "markdown",
   "metadata": {},
   "source": [
    "여기보고 반례찾자\n",
    "https://www.acmicpc.net/board/view/58247\n",
    "\n",
    "풀고나면 간단한데 답 보고도 한참 걸리고 하루종일 풀었네..\n",
    "\n",
    "- 너무 다 분할해 함수화 하려고 하지 말것\n",
    "- 데이터 안 건들려고 괜히 딥카피하지 말고 원래대로 돌려 놓을것"
   ]
  },
  {
   "cell_type": "code",
   "execution_count": 30,
   "metadata": {},
   "outputs": [
    {
     "name": "stdout",
     "output_type": "stream",
     "text": [
      "3\n"
     ]
    }
   ],
   "source": [
    "n=int(input())\n",
    "arr=[list(input()) for _ in range(n)]\n",
    "\n",
    "# 2d array 에서 계산\n",
    "def check(arr):\n",
    "    n = len(arr)\n",
    "    result=1\n",
    "    for i in range(n):\n",
    "        cnt=1\n",
    "        for j in range(n-1):\n",
    "            if arr[i][j] == arr[i][j+1]:\n",
    "                cnt+=1\n",
    "            else:\n",
    "                cnt=1\n",
    "            # 여기 indentation 따라 맞고 틀림이 결정됨 조심\n",
    "            if cnt>result:\n",
    "                result=cnt\n",
    "\n",
    "        cnt=1\n",
    "        for j in range(n-1):\n",
    "            if arr[j][i]==arr[j+1][i]:\n",
    "                cnt+=1\n",
    "            else:\n",
    "                cnt=1\n",
    "            # 여기 indentation 따라 맞고 틀림이 결정됨 조심\n",
    "            if cnt>result:\n",
    "                result=cnt\n",
    "    return result\n",
    "\n",
    "\n",
    "def getMaxCandy(arr):\n",
    "    result = 0\n",
    "    for i in range(n):\n",
    "        for j in range(n):\n",
    "            if j+1 < n:\n",
    "                arr[i][j],arr[i][j+1] = arr[i][j+1],arr[i][j]\n",
    "                temp = check(arr)\n",
    "                if temp>result:\n",
    "                    result=check(arr)\n",
    "                arr[i][j],arr[i][j+1] = arr[i][j+1],arr[i][j]\n",
    "                    \n",
    "            if i+1 < n:\n",
    "                arr[i][j],arr[i+1][j] = arr[i+1][j],arr[i][j]\n",
    "                temp =check(arr)\n",
    "                if temp>result:\n",
    "                    result=check(arr)\n",
    "                arr[i][j],arr[i+1][j] = arr[i+1][j],arr[i][j]\n",
    "    return result       \n",
    "        \n",
    "print(getMaxCandy(arr))"
   ]
  },
  {
   "cell_type": "code",
   "execution_count": null,
   "metadata": {},
   "outputs": [],
   "source": []
  }
 ],
 "metadata": {
  "kernelspec": {
   "display_name": "Python 3.7.3 64-bit",
   "language": "python",
   "name": "python3"
  },
  "language_info": {
   "codemirror_mode": {
    "name": "ipython",
    "version": 3
   },
   "file_extension": ".py",
   "mimetype": "text/x-python",
   "name": "python",
   "nbconvert_exporter": "python",
   "pygments_lexer": "ipython3",
   "version": "3.7.3"
  },
  "orig_nbformat": 4,
  "vscode": {
   "interpreter": {
    "hash": "31f2aee4e71d21fbe5cf8b01ff0e069b9275f58929596ceb00d14d90e3e16cd6"
   }
  }
 },
 "nbformat": 4,
 "nbformat_minor": 2
}
